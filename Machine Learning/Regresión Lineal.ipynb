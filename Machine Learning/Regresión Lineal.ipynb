{
 "cells": [
  {
   "cell_type": "code",
   "execution_count": 31,
   "id": "8d908cd2",
   "metadata": {},
   "outputs": [],
   "source": [
    "import pandas as pd\n",
    "import numpy as np"
   ]
  },
  {
   "cell_type": "code",
   "execution_count": 32,
   "id": "92543a97",
   "metadata": {},
   "outputs": [],
   "source": [
    "%matplotlib inline \n",
    "import matplotlib.pyplot as plt \n",
    "\n",
    "plt.rcParams[\"figure.figsize\"] = (10,10)\n",
    "plt.rcParams[\"font.size\"] = 14"
   ]
  },
  {
   "cell_type": "code",
   "execution_count": 33,
   "id": "38f9c777",
   "metadata": {},
   "outputs": [],
   "source": [
    "vehiculos = pd.read_csv(\"./data/vehiculos_procesado.csv\",\n",
    "                       usecols=[\"consumo\", \"co2\", \"cilindros\", \"desplazamiento\"])\n",
    "\n",
    "litros_por_galon = 3.78541\n",
    "vehiculos[\"consumo_litros_milla\"] = litros_por_galon / vehiculos.consumo"
   ]
  },
  {
   "cell_type": "code",
   "execution_count": 34,
   "id": "895324ad",
   "metadata": {},
   "outputs": [
    {
     "data": {
      "text/plain": [
       "(35539, 5)"
      ]
     },
     "execution_count": 34,
     "metadata": {},
     "output_type": "execute_result"
    }
   ],
   "source": [
    "vehiculos.shape"
   ]
  },
  {
   "cell_type": "code",
   "execution_count": 35,
   "id": "575ee5b4",
   "metadata": {},
   "outputs": [
    {
     "data": {
      "text/html": [
       "<div>\n",
       "<style scoped>\n",
       "    .dataframe tbody tr th:only-of-type {\n",
       "        vertical-align: middle;\n",
       "    }\n",
       "\n",
       "    .dataframe tbody tr th {\n",
       "        vertical-align: top;\n",
       "    }\n",
       "\n",
       "    .dataframe thead th {\n",
       "        text-align: right;\n",
       "    }\n",
       "</style>\n",
       "<table border=\"1\" class=\"dataframe\">\n",
       "  <thead>\n",
       "    <tr style=\"text-align: right;\">\n",
       "      <th></th>\n",
       "      <th>desplazamiento</th>\n",
       "      <th>cilindros</th>\n",
       "      <th>consumo</th>\n",
       "      <th>co2</th>\n",
       "      <th>consumo_litros_milla</th>\n",
       "    </tr>\n",
       "  </thead>\n",
       "  <tbody>\n",
       "    <tr>\n",
       "      <th>0</th>\n",
       "      <td>2.5</td>\n",
       "      <td>4.0</td>\n",
       "      <td>17</td>\n",
       "      <td>522.764706</td>\n",
       "      <td>0.222671</td>\n",
       "    </tr>\n",
       "    <tr>\n",
       "      <th>1</th>\n",
       "      <td>4.2</td>\n",
       "      <td>6.0</td>\n",
       "      <td>13</td>\n",
       "      <td>683.615385</td>\n",
       "      <td>0.291185</td>\n",
       "    </tr>\n",
       "    <tr>\n",
       "      <th>2</th>\n",
       "      <td>2.5</td>\n",
       "      <td>4.0</td>\n",
       "      <td>16</td>\n",
       "      <td>555.437500</td>\n",
       "      <td>0.236588</td>\n",
       "    </tr>\n",
       "    <tr>\n",
       "      <th>3</th>\n",
       "      <td>4.2</td>\n",
       "      <td>6.0</td>\n",
       "      <td>13</td>\n",
       "      <td>683.615385</td>\n",
       "      <td>0.291185</td>\n",
       "    </tr>\n",
       "    <tr>\n",
       "      <th>4</th>\n",
       "      <td>3.8</td>\n",
       "      <td>6.0</td>\n",
       "      <td>16</td>\n",
       "      <td>555.437500</td>\n",
       "      <td>0.236588</td>\n",
       "    </tr>\n",
       "  </tbody>\n",
       "</table>\n",
       "</div>"
      ],
      "text/plain": [
       "   desplazamiento  cilindros  consumo         co2  consumo_litros_milla\n",
       "0             2.5        4.0       17  522.764706              0.222671\n",
       "1             4.2        6.0       13  683.615385              0.291185\n",
       "2             2.5        4.0       16  555.437500              0.236588\n",
       "3             4.2        6.0       13  683.615385              0.291185\n",
       "4             3.8        6.0       16  555.437500              0.236588"
      ]
     },
     "execution_count": 35,
     "metadata": {},
     "output_type": "execute_result"
    }
   ],
   "source": [
    "vehiculos.head()"
   ]
  },
  {
   "cell_type": "markdown",
   "id": "c074340e",
   "metadata": {},
   "source": [
    "El modelo de regresión lineal mediante OLS (ordinary least squares) tiene la forma: \n",
    "\n",
    "$$ \\hat{y} = \\alpha + \\beta_1 * x_1 + \\beta_2 * x_2 + ... + \\beta_n * x_n + e$$\n",
    "\n",
    "- Donde $\\hat{y}$ es la predicción que queremos hacer.\n",
    "- $\\alpha$ es el término independiente.\n",
    "- $\\beta_n$ es un vector de coeficientes y $x_n$ son los valores de las variables del dataset.\n",
    "\n",
    "El objetivo es obtener $\\alpha$ y $\\beta_n$, tales que error cuadrático (residuo), definido como:\n",
    "\n",
    "$$ RSS = \\epsilon^2 = \\sum_{i=1}^n(y_i - (\\alpha - \\beta_ix_i))^2$$\n",
    "\n",
    "sea el mínimo.\n",
    "\n",
    "Para ello tenemos que resolver las siguientes equaciones:\n",
    "\n",
    "$$ \\hat{\\alpha} = \\bar{y} - \\hat{\\beta} * \\bar{x} $$\n",
    "$$ \\hat{\\beta} = (X^TX)^{-1}y $$"
   ]
  },
  {
   "cell_type": "markdown",
   "id": "5571df37",
   "metadata": {},
   "source": [
    "Para obtener los coeficientes del modelo, dedicamos una fracción del dataset a entrenar y otra a evaluar los resultados (para evitar sobreajuste o sobregeneralización)"
   ]
  },
  {
   "cell_type": "code",
   "execution_count": 36,
   "id": "d4a52878",
   "metadata": {},
   "outputs": [],
   "source": [
    "pct_entrenamiento = 0.8"
   ]
  },
  {
   "cell_type": "code",
   "execution_count": 50,
   "id": "fe007c38",
   "metadata": {},
   "outputs": [
    {
     "name": "stdout",
     "output_type": "stream",
     "text": [
      "(28431, 5)\n",
      "(7108, 5)\n"
     ]
    }
   ],
   "source": [
    "vehiculos_training = vehiculos.sample(frac=pct_entrenamiento)\n",
    "\n",
    "vehiculos_test = vehiculos[~vehiculos.index.isin(vehiculos_training.index)]\n",
    "\n",
    "print(vehiculos_training.shape)\n",
    "print(vehiculos_test.shape)"
   ]
  },
  {
   "cell_type": "code",
   "execution_count": 51,
   "id": "d470f5ad",
   "metadata": {},
   "outputs": [],
   "source": [
    "variables_independientes = [\"desplazamiento\", \"cilindros\", \"consumo_litros_milla\"]\n",
    "variable_dependiente = \"co2\"\n",
    "X = vehiculos_training[variables_independientes].to_numpy()\n",
    "y = vehiculos_training[variable_dependiente].to_numpy()\n",
    "X_T = X.T"
   ]
  },
  {
   "cell_type": "code",
   "execution_count": 52,
   "id": "ec8902cd",
   "metadata": {},
   "outputs": [
    {
     "data": {
      "text/plain": [
       "array([[ 5.        ,  8.        ,  0.29118538],\n",
       "       [ 6.        , 12.        ,  0.29118538],\n",
       "       [ 3.7       ,  6.        ,  0.17206409],\n",
       "       ...,\n",
       "       [ 2.        ,  4.        ,  0.18025762],\n",
       "       [ 4.4       ,  8.        ,  0.23658813],\n",
       "       [ 4.2       ,  8.        ,  0.19923211]])"
      ]
     },
     "execution_count": 52,
     "metadata": {},
     "output_type": "execute_result"
    }
   ],
   "source": [
    "X"
   ]
  },
  {
   "cell_type": "code",
   "execution_count": 53,
   "id": "319f472e",
   "metadata": {},
   "outputs": [
    {
     "data": {
      "text/plain": [
       "(28431, 3)"
      ]
     },
     "execution_count": 53,
     "metadata": {},
     "output_type": "execute_result"
    }
   ],
   "source": [
    "X.shape"
   ]
  },
  {
   "cell_type": "code",
   "execution_count": 54,
   "id": "16f6d4a9",
   "metadata": {},
   "outputs": [
    {
     "data": {
      "text/plain": [
       "array([683.61538462, 683.61538462, 412.        , ..., 423.19047619,\n",
       "       555.4375    , 467.73684211])"
      ]
     },
     "execution_count": 54,
     "metadata": {},
     "output_type": "execute_result"
    }
   ],
   "source": [
    "y"
   ]
  },
  {
   "cell_type": "code",
   "execution_count": 55,
   "id": "87bb0f95",
   "metadata": {},
   "outputs": [
    {
     "data": {
      "text/plain": [
       "array([ 3.85364456e+00, -5.91952951e-01,  2.30433960e+03])"
      ]
     },
     "execution_count": 55,
     "metadata": {},
     "output_type": "execute_result"
    }
   ],
   "source": [
    "betas = np.linalg.inv(X_T @ X) @ X_T @ y\n",
    "betas"
   ]
  },
  {
   "cell_type": "code",
   "execution_count": 56,
   "id": "3f767dba",
   "metadata": {},
   "outputs": [
    {
     "data": {
      "text/plain": [
       "471.26124436239803"
      ]
     },
     "execution_count": 56,
     "metadata": {},
     "output_type": "execute_result"
    }
   ],
   "source": [
    "y.mean()"
   ]
  },
  {
   "cell_type": "code",
   "execution_count": 64,
   "id": "e5b1d2a0",
   "metadata": {},
   "outputs": [
    {
     "data": {
      "text/plain": [
       "0.3764769653723192"
      ]
     },
     "execution_count": 64,
     "metadata": {},
     "output_type": "execute_result"
    }
   ],
   "source": [
    "alfa = y.mean() - np.dot(betas, vehiculos_training[variables_independientes].mean().to_numpy())\n",
    "alfa"
   ]
  },
  {
   "cell_type": "code",
   "execution_count": 65,
   "id": "881f3332",
   "metadata": {},
   "outputs": [],
   "source": [
    "def predecir(r):\n",
    "    return alfa + np.dot(betas, r.values)"
   ]
  },
  {
   "cell_type": "code",
   "execution_count": 66,
   "id": "375025a1",
   "metadata": {},
   "outputs": [
    {
     "name": "stderr",
     "output_type": "stream",
     "text": [
      "/tmp/ipykernel_6433/3767514666.py:3: SettingWithCopyWarning: \n",
      "A value is trying to be set on a copy of a slice from a DataFrame.\n",
      "Try using .loc[row_indexer,col_indexer] = value instead\n",
      "\n",
      "See the caveats in the documentation: https://pandas.pydata.org/pandas-docs/stable/user_guide/indexing.html#returning-a-view-versus-a-copy\n",
      "  vehiculos_test[\"co2_pred\"] = vehiculos_test[variables_independientes].apply(predecir, axis=1)\n"
     ]
    }
   ],
   "source": [
    "vehiculos_training[\"co2_pred\"] = vehiculos_training[variables_independientes].apply(predecir, axis=1)\n",
    "\n",
    "vehiculos_test[\"co2_pred\"] = vehiculos_test[variables_independientes].apply(predecir, axis=1)\n"
   ]
  },
  {
   "cell_type": "code",
   "execution_count": 67,
   "id": "143b53c6",
   "metadata": {},
   "outputs": [
    {
     "data": {
      "text/html": [
       "<div>\n",
       "<style scoped>\n",
       "    .dataframe tbody tr th:only-of-type {\n",
       "        vertical-align: middle;\n",
       "    }\n",
       "\n",
       "    .dataframe tbody tr th {\n",
       "        vertical-align: top;\n",
       "    }\n",
       "\n",
       "    .dataframe thead th {\n",
       "        text-align: right;\n",
       "    }\n",
       "</style>\n",
       "<table border=\"1\" class=\"dataframe\">\n",
       "  <thead>\n",
       "    <tr style=\"text-align: right;\">\n",
       "      <th></th>\n",
       "      <th>co2</th>\n",
       "      <th>co2_pred</th>\n",
       "    </tr>\n",
       "  </thead>\n",
       "  <tbody>\n",
       "    <tr>\n",
       "      <th>12577</th>\n",
       "      <td>683.615385</td>\n",
       "      <td>685.899089</td>\n",
       "    </tr>\n",
       "    <tr>\n",
       "      <th>23989</th>\n",
       "      <td>683.615385</td>\n",
       "      <td>687.384922</td>\n",
       "    </tr>\n",
       "    <tr>\n",
       "      <th>18153</th>\n",
       "      <td>412.000000</td>\n",
       "      <td>407.577343</td>\n",
       "    </tr>\n",
       "    <tr>\n",
       "      <th>14795</th>\n",
       "      <td>740.583333</td>\n",
       "      <td>744.512475</td>\n",
       "    </tr>\n",
       "    <tr>\n",
       "      <th>14314</th>\n",
       "      <td>467.736842</td>\n",
       "      <td>470.773627</td>\n",
       "    </tr>\n",
       "  </tbody>\n",
       "</table>\n",
       "</div>"
      ],
      "text/plain": [
       "              co2    co2_pred\n",
       "12577  683.615385  685.899089\n",
       "23989  683.615385  687.384922\n",
       "18153  412.000000  407.577343\n",
       "14795  740.583333  744.512475\n",
       "14314  467.736842  470.773627"
      ]
     },
     "execution_count": 67,
     "metadata": {},
     "output_type": "execute_result"
    }
   ],
   "source": [
    "vehiculos_training[[\"co2\", \"co2_pred\"]].head()"
   ]
  },
  {
   "cell_type": "code",
   "execution_count": 68,
   "id": "dac80103",
   "metadata": {},
   "outputs": [
    {
     "data": {
      "text/plain": [
       "'y ~ 0.376 + 3.85*desplazamiento + -0.59*cilindros + 2304.34*cosumo_litros_milla'"
      ]
     },
     "execution_count": 68,
     "metadata": {},
     "output_type": "execute_result"
    }
   ],
   "source": [
    "model_formula = \"y ~ {alfa:.3f} + {beta_1:.2f}*desplazamiento + {beta_2:.2f}*cilindros + {beta_3:.2f}*cosumo_litros_milla\".format(\n",
    "    alfa=alfa, beta_1=betas[0], beta_2=betas[1], beta_3=betas[2])\n",
    "model_formula"
   ]
  },
  {
   "cell_type": "code",
   "execution_count": 70,
   "id": "bc664344",
   "metadata": {},
   "outputs": [
    {
     "data": {
      "text/plain": [
       "<matplotlib.legend.Legend at 0x7f9c0358bdf0>"
      ]
     },
     "execution_count": 70,
     "metadata": {},
     "output_type": "execute_result"
    },
    {
     "data": {
      "image/png": "[encoded data removed]",
      "text/plain": [
       "<Figure size 720x720 with 1 Axes>"
      ]
     },
     "metadata": {
      "needs_background": "light"
     },
     "output_type": "display_data"
    }
   ],
   "source": [
    "plt.scatter(vehiculos_test.consumo_litros_milla, vehiculos_test.co2, alpha=0.5, label=\"real\")\n",
    "plt.text(0.1, 850, model_formula)\n",
    "plt.plot(vehiculos_test.consumo_litros_milla, vehiculos_test.co2_pred, c=\"black\", label=\"prediccion\")\n",
    "plt.xlabel(\"Consumo combustible (litros/milla)\")\n",
    "plt.ylabel(\"Emisión CO2 gramos/milla\")\n",
    "plt.legend()"
   ]
  },
  {
   "cell_type": "code",
   "execution_count": 71,
   "id": "fa60e53c",
   "metadata": {},
   "outputs": [],
   "source": [
    "def error_cuadratico_medio(y, y_pred):\n",
    "    return np.sum((y-y_pred)**2)/len(y)"
   ]
  },
  {
   "cell_type": "code",
   "execution_count": 72,
   "id": "76c86baf",
   "metadata": {},
   "outputs": [
    {
     "data": {
      "text/plain": [
       "129.80703226278195"
      ]
     },
     "execution_count": 72,
     "metadata": {},
     "output_type": "execute_result"
    }
   ],
   "source": [
    "error_training = error_cuadratico_medio(vehiculos_training.co2, vehiculos_training.co2_pred)\n",
    "error_training"
   ]
  },
  {
   "cell_type": "code",
   "execution_count": 73,
   "id": "d8a4f940",
   "metadata": {},
   "outputs": [
    {
     "data": {
      "text/plain": [
       "137.374740152571"
      ]
     },
     "execution_count": 73,
     "metadata": {},
     "output_type": "execute_result"
    }
   ],
   "source": [
    "error_test = error_cuadratico_medio(vehiculos_test.co2, vehiculos_test.co2_pred)\n",
    "error_test"
   ]
  },
  {
   "cell_type": "markdown",
   "id": "37226816",
   "metadata": {},
   "source": [
    "### Links\n",
    "\n",
    "https://people.revoledu.com/kardi/tutorial/Regression/OLS.html\n",
    "\n",
    "\n",
    "https://setosa.io/ev/ordinary-least-squares-regression/"
   ]
  }
 ],
 "metadata": {
  "kernelspec": {
   "display_name": "Python 3 (ipykernel)",
   "language": "python",
   "name": "python3"
  },
  "language_info": {
   "codemirror_mode": {
    "name": "ipython",
    "version": 3
   },
   "file_extension": ".py",
   "mimetype": "text/x-python",
   "name": "python",
   "nbconvert_exporter": "python",
   "pygments_lexer": "ipython3",
   "version": "3.9.7"
  }
 },
 "nbformat": 4,
 "nbformat_minor": 5
}
