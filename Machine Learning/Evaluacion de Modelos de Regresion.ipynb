{
 "cells": [
  {
   "cell_type": "code",
   "execution_count": 2,
   "metadata": {},
   "outputs": [],
   "source": [
    "from sklearn import datasets"
   ]
  },
  {
   "cell_type": "code",
   "execution_count": 3,
   "metadata": {},
   "outputs": [
    {
     "name": "stderr",
     "output_type": "stream",
     "text": [
      "/home/bryanhernandez/anaconda3/envs/data/lib/python3.10/site-packages/sklearn/utils/deprecation.py:87: FutureWarning: Function load_boston is deprecated; `load_boston` is deprecated in 1.0 and will be removed in 1.2.\n",
      "\n",
      "    The Boston housing prices dataset has an ethical problem. You can refer to\n",
      "    the documentation of this function for further details.\n",
      "\n",
      "    The scikit-learn maintainers therefore strongly discourage the use of this\n",
      "    dataset unless the purpose of the code is to study and educate about\n",
      "    ethical issues in data science and machine learning.\n",
      "\n",
      "    In this special case, you can fetch the dataset from the original\n",
      "    source::\n",
      "\n",
      "        import pandas as pd\n",
      "        import numpy as np\n",
      "\n",
      "\n",
      "        data_url = \"http://lib.stat.cmu.edu/datasets/boston\"\n",
      "        raw_df = pd.read_csv(data_url, sep=\"\\s+\", skiprows=22, header=None)\n",
      "        data = np.hstack([raw_df.values[::2, :], raw_df.values[1::2, :2]])\n",
      "        target = raw_df.values[1::2, 2]\n",
      "\n",
      "    Alternative datasets include the California housing dataset (i.e.\n",
      "    :func:`~sklearn.datasets.fetch_california_housing`) and the Ames housing\n",
      "    dataset. You can load the datasets as follows::\n",
      "\n",
      "        from sklearn.datasets import fetch_california_housing\n",
      "        housing = fetch_california_housing()\n",
      "\n",
      "    for the California housing dataset and::\n",
      "\n",
      "        from sklearn.datasets import fetch_openml\n",
      "        housing = fetch_openml(name=\"house_prices\", as_frame=True)\n",
      "\n",
      "    for the Ames housing dataset.\n",
      "    \n",
      "  warnings.warn(msg, category=FutureWarning)\n"
     ]
    }
   ],
   "source": [
    "boston = datasets.load_boston()"
   ]
  },
  {
   "cell_type": "code",
   "execution_count": 4,
   "metadata": {},
   "outputs": [],
   "source": [
    "from sklearn.linear_model import LinearRegression"
   ]
  },
  {
   "cell_type": "code",
   "execution_count": 5,
   "metadata": {},
   "outputs": [],
   "source": [
    "model = LinearRegression()"
   ]
  },
  {
   "cell_type": "code",
   "execution_count": 6,
   "metadata": {},
   "outputs": [
    {
     "data": {
      "text/plain": [
       "LinearRegression()"
      ]
     },
     "execution_count": 6,
     "metadata": {},
     "output_type": "execute_result"
    }
   ],
   "source": [
    "model.fit(X=boston[\"data\"], y=boston[\"target\"])"
   ]
  },
  {
   "cell_type": "code",
   "execution_count": 7,
   "metadata": {},
   "outputs": [],
   "source": [
    "y_objetivo = boston[\"target\"]\n",
    "y_pred = model.predict(boston[\"data\"])"
   ]
  },
  {
   "cell_type": "code",
   "execution_count": 8,
   "metadata": {},
   "outputs": [],
   "source": [
    "from sklearn import metrics"
   ]
  },
  {
   "cell_type": "markdown",
   "metadata": {},
   "source": [
    "## Error Absoluto Medio\n",
    "\n",
    "El *Error Absoluto Medio* (Mean Absolute Error o **MAE**) se define como:\n",
    "\n",
    "$$ \\frac{1}{n} \\sum^n_{i=1}{|y_i - \\hat{y}_i|} $$\n",
    "\n",
    "Es decir, la media de las diferencias entre la variable objetivo y las predicciones sin el signo.\n",
    "\n",
    "MAE es una métrica robusta, en cuanto a que no varía mucho si hay valores extremos en los datos. El error se puede interpretar como unidades de la variable objetivo (por ejemplo, si la variable objetivo es en dólare, MAE estará también en dólares)."
   ]
  },
  {
   "cell_type": "code",
   "execution_count": 9,
   "metadata": {},
   "outputs": [
    {
     "data": {
      "text/plain": [
       "3.2708628109003133"
      ]
     },
     "execution_count": 9,
     "metadata": {},
     "output_type": "execute_result"
    }
   ],
   "source": [
    "metrics.mean_absolute_error(y_objetivo, y_pred)"
   ]
  },
  {
   "cell_type": "markdown",
   "metadata": {},
   "source": [
    "### Error Cuadrático Medio\n",
    "\n",
    "El *Error Cuadrático Medio* (Mean Squared Error o MSE)\n",
    "\n",
    "$$ \\frac{1}{n} \\sum^n_{i=1}{(y_i - \\hat{y}_i)^2}$$\n",
    "\n",
    "Dado que el MSE se define en unidades al cuadrado, lo cual no es intuitivo (¿dólares cuadrados?), generalmente se usa su raíz.\n",
    "\n",
    "### Raíz del Error Cuadrático Medio\n",
    "\n",
    "La *Raíz del Error Cuadrático Medio* (Root Mean Squared Error o RMSE) se diferencia del MSE en que el resultado se puede medir en las mismas unidades que la variable objetivo.\n",
    "\n",
    "$$ \\sqrt{ \\frac{1}{n} \\sum^n_{i=1}{(y_i - \\hat{y}_i)^2} } $$\n",
    "\n",
    "Sin embargo, tiene un problema y es que da más importancia a los errores grandes. Por ejemplo, en el Boston Hosting Dataset, si tenemos dos observaciones y sus predicciones:\n",
    "\n",
    "\tobservacion1: MEDV: 10\tMEDV_pred: 15\tRMSE: (10-15)^2=25\n",
    "\tobservacion2: MEDV: 1000 MEDV_pred: 1010 RMSE: (1000-1010)^2=100\n",
    "\n",
    "El usar RMSE como medida de error significa que se le dará más peso al error de la observacion2 que al de la observacion1, pese a que un error 5,000 dólares en una zona donde el valor medio es de 10,000 es un error mucho más grave que un error de 10,000 dólares en una zona donde el valor medio de las vasas es de 1 millon de dólares."
   ]
  },
  {
   "cell_type": "code",
   "execution_count": 10,
   "metadata": {},
   "outputs": [
    {
     "data": {
      "text/plain": [
       "4.679191295697281"
      ]
     },
     "execution_count": 10,
     "metadata": {},
     "output_type": "execute_result"
    }
   ],
   "source": [
    "import numpy as np\n",
    "\n",
    "np.sqrt(metrics.mean_squared_error(y_objetivo, y_pred))\t\t\t"
   ]
  },
  {
   "cell_type": "markdown",
   "metadata": {},
   "source": [
    "### Coeficiente de determinación\n",
    "\n",
    "El coeficiente de determinación (R2 o R-squared) mide la porción de la varianza de la variable objetivo que se puede explicar por el modelo.\n",
    "\n",
    "R2 tiene un valor máximo de 1 (cuando el modelo explica toda la varianza), aunque puede tener valores negativos.\n",
    "\n",
    "Hay *varias formas de definir R2*, pero una de las más sencillas es simplemente la correlación (definida como la **Correlación de Pearson**) entre la variable objetivo y las predicciones, elevada al cuadrado.\n",
    "\n",
    "$$ r = r_{xy} = \\frac{ n\\sum{x_iy_i} - \\sum{x_i} \\sum{y_i} } { \\sqrt{ n \\sum{x^2_i} - ( \\sum{x_i}^2) } \\sqrt{n\\sum{y^2_i} - (\\sum{y_i})^2} } $$\n",
    "\n",
    "Un problema importante que tiene R2 es que no nos indica si el modelo explica la varianza debido a que está sobreajustando (overfitted). Por eso una medida mejor es el *Coeficiente de Determinación Ajustado* (Ajusted R-Squared), que tiene en consideración la complejidad del modelo.\n",
    "\n",
    "$$ 1 - \\frac{(1 - R^2) (n - 1)}{n - k - 1} $$\n",
    "\n",
    "donde n es el número de observaciones y k es el número de coeficientes del modelo (sin contar el término independiente)."
   ]
  },
  {
   "cell_type": "code",
   "execution_count": 11,
   "metadata": {},
   "outputs": [
    {
     "data": {
      "text/plain": [
       "0.7406426641094095"
      ]
     },
     "execution_count": 11,
     "metadata": {},
     "output_type": "execute_result"
    }
   ],
   "source": [
    "modelo_r2 = metrics.r2_score(y_objetivo, y_pred)\n",
    "modelo_r2"
   ]
  },
  {
   "cell_type": "code",
   "execution_count": 13,
   "metadata": {},
   "outputs": [
    {
     "data": {
      "text/plain": [
       "array([[1.        , 0.74064266],\n",
       "       [0.74064266, 1.        ]])"
      ]
     },
     "execution_count": 13,
     "metadata": {},
     "output_type": "execute_result"
    }
   ],
   "source": [
    "import numpy as np\n",
    "np.corrcoef(y_objetivo, y_pred)**2\n"
   ]
  },
  {
   "cell_type": "code",
   "execution_count": 14,
   "metadata": {},
   "outputs": [
    {
     "data": {
      "text/plain": [
       "13"
      ]
     },
     "execution_count": 14,
     "metadata": {},
     "output_type": "execute_result"
    }
   ],
   "source": [
    "len(model.coef_)"
   ]
  },
  {
   "cell_type": "code",
   "execution_count": 15,
   "metadata": {},
   "outputs": [
    {
     "data": {
      "text/plain": [
       "0.733789726372463"
      ]
     },
     "execution_count": 15,
     "metadata": {},
     "output_type": "execute_result"
    }
   ],
   "source": [
    "modelo_r2_ajustado = 1 - (1-modelo_r2)*(len(boston[\"target\"]) - 1) / \\\n",
    "\t\t\t\t\t\t (len(boston[\"target\"]) - boston[\"data\"].shape[1] - 1)\n",
    "modelo_r2_ajustado"
   ]
  },
  {
   "cell_type": "code",
   "execution_count": null,
   "metadata": {},
   "outputs": [],
   "source": []
  }
 ],
 "metadata": {
  "interpreter": {
   "hash": "cfcbfe3e4fa4b842f36025239f199237788c1bcdebf0882b86e9b4bfbf9bd634"
  },
  "kernelspec": {
   "display_name": "Python 3.10.0 ('data')",
   "language": "python",
   "name": "python3"
  },
  "language_info": {
   "codemirror_mode": {
    "name": "ipython",
    "version": 3
   },
   "file_extension": ".py",
   "mimetype": "text/x-python",
   "name": "python",
   "nbconvert_exporter": "python",
   "pygments_lexer": "ipython3",
   "version": "3.10.0"
  },
  "orig_nbformat": 4
 },
 "nbformat": 4,
 "nbformat_minor": 2
}
