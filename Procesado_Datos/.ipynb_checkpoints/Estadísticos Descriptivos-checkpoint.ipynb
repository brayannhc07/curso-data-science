{
 "cells": [
  {
   "cell_type": "code",
   "execution_count": 1,
   "id": "0c8960f2",
   "metadata": {},
   "outputs": [],
   "source": [
    "import numpy as np\n",
    "import pandas as pd\n",
    "\n",
    "import scipy.stats as stats"
   ]
  },
  {
   "cell_type": "code",
   "execution_count": 2,
   "id": "a2dd6533",
   "metadata": {},
   "outputs": [],
   "source": [
    "pesos = [100, 150, 150, 200, 250, 300, 325, 400, 415, 500, 600, 1000]"
   ]
  },
  {
   "cell_type": "code",
   "execution_count": 3,
   "id": "887e5bc9",
   "metadata": {},
   "outputs": [
    {
     "data": {
      "text/plain": [
       "365.8333333333333"
      ]
     },
     "execution_count": 3,
     "metadata": {},
     "output_type": "execute_result"
    }
   ],
   "source": [
    "# Media\n",
    "pesos_media = np.mean(pesos)\n",
    "pesos_media"
   ]
  },
  {
   "cell_type": "code",
   "execution_count": 4,
   "id": "8b495e50",
   "metadata": {},
   "outputs": [
    {
     "data": {
      "text/plain": [
       "312.5"
      ]
     },
     "execution_count": 4,
     "metadata": {},
     "output_type": "execute_result"
    }
   ],
   "source": [
    "# Mediana \n",
    "np.median(pesos)"
   ]
  },
  {
   "cell_type": "code",
   "execution_count": 5,
   "id": "ce8504f1",
   "metadata": {},
   "outputs": [
    {
     "data": {
      "text/plain": [
       "ModeResult(mode=array([150]), count=array([2]))"
      ]
     },
     "execution_count": 5,
     "metadata": {},
     "output_type": "execute_result"
    }
   ],
   "source": [
    "# Moda\n",
    "stats.mode(pesos)"
   ]
  },
  {
   "cell_type": "code",
   "execution_count": 6,
   "id": "f957857c",
   "metadata": {},
   "outputs": [
    {
     "data": {
      "text/plain": [
       "900"
      ]
     },
     "execution_count": 6,
     "metadata": {},
     "output_type": "execute_result"
    }
   ],
   "source": [
    "# Rango\n",
    "np.max(pesos) - np.min(pesos)"
   ]
  },
  {
   "cell_type": "code",
   "execution_count": null,
   "id": "8c98a802",
   "metadata": {},
   "outputs": [],
   "source": []
  }
 ],
 "metadata": {
  "kernelspec": {
   "display_name": "Python 3",
   "language": "python",
   "name": "python3"
  },
  "language_info": {
   "codemirror_mode": {
    "name": "ipython",
    "version": 3
   },
   "file_extension": ".py",
   "mimetype": "text/x-python",
   "name": "python",
   "nbconvert_exporter": "python",
   "pygments_lexer": "ipython3",
   "version": "3.9.2"
  }
 },
 "nbformat": 4,
 "nbformat_minor": 5
}
