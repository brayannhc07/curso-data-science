{
 "cells": [
  {
   "cell_type": "code",
   "execution_count": 1,
   "id": "0c8960f2",
   "metadata": {},
   "outputs": [],
   "source": [
    "import numpy as np\n",
    "import pandas as pd\n",
    "\n",
    "import scipy.stats as stats"
   ]
  },
  {
   "cell_type": "code",
   "execution_count": 2,
   "id": "a2dd6533",
   "metadata": {},
   "outputs": [],
   "source": [
    "pesos = [100, 150, 150, 200, 250, 300, 325, 400, 415, 500, 600, 1000]"
   ]
  },
  {
   "cell_type": "code",
   "execution_count": 3,
   "id": "887e5bc9",
   "metadata": {},
   "outputs": [
    {
     "data": {
      "text/plain": [
       "365.8333333333333"
      ]
     },
     "execution_count": 3,
     "metadata": {},
     "output_type": "execute_result"
    }
   ],
   "source": [
    "# Media\n",
    "pesos_media = np.mean(pesos)\n",
    "pesos_media"
   ]
  },
  {
   "cell_type": "code",
   "execution_count": 4,
   "id": "2c386bca",
   "metadata": {},
   "outputs": [
    {
     "data": {
      "text/plain": [
       "312.5"
      ]
     },
     "execution_count": 4,
     "metadata": {},
     "output_type": "execute_result"
    }
   ],
   "source": [
    "# Mediana \n",
    "np.median(pesos)"
   ]
  },
  {
   "cell_type": "code",
   "execution_count": 5,
   "id": "1ae24a1d",
   "metadata": {},
   "outputs": [
    {
     "data": {
      "text/plain": [
       "ModeResult(mode=array([150]), count=array([2]))"
      ]
     },
     "execution_count": 5,
     "metadata": {},
     "output_type": "execute_result"
    }
   ],
   "source": [
    "# Moda\n",
    "stats.mode(pesos)"
   ]
  },
  {
   "cell_type": "code",
   "execution_count": 6,
   "id": "9da9fb42",
   "metadata": {},
   "outputs": [
    {
     "data": {
      "text/plain": [
       "900"
      ]
     },
     "execution_count": 6,
     "metadata": {},
     "output_type": "execute_result"
    }
   ],
   "source": [
    "# Rango\n",
    "np.max(pesos) - np.min(pesos)"
   ]
  },
  {
   "cell_type": "code",
   "execution_count": 7,
   "id": "fecebe36",
   "metadata": {},
   "outputs": [
    {
     "data": {
      "text/plain": [
       "array([172.5 , 312.5 , 461.75])"
      ]
     },
     "execution_count": 7,
     "metadata": {},
     "output_type": "execute_result"
    }
   ],
   "source": [
    "# Cuartiles y IQR\n",
    "stats.mstats.mquantiles(pesos)"
   ]
  },
  {
   "cell_type": "markdown",
   "id": "180b318d",
   "metadata": {},
   "source": [
    "La función pandas.qcut convierte una serie en una lista de N cuantiles. Si le pasamos 4, tenemos los cuartiles. qcut devuelve una serie categórica nueva con los cuartiles como categorías."
   ]
  },
  {
   "cell_type": "code",
   "execution_count": 8,
   "id": "a15faf4d",
   "metadata": {},
   "outputs": [
    {
     "data": {
      "text/plain": [
       "IntervalIndex([(99.999, 187.5], (187.5, 312.5], (312.5, 436.25], (436.25, 1000.0]], dtype='interval[float64, right]')"
      ]
     },
     "execution_count": 8,
     "metadata": {},
     "output_type": "execute_result"
    }
   ],
   "source": [
    "pesos_cuartiles = pd.qcut(pesos, 4)\n",
    "\n",
    "pesos_cuartiles.categories"
   ]
  },
  {
   "cell_type": "code",
   "execution_count": 9,
   "id": "f6653882",
   "metadata": {},
   "outputs": [
    {
     "data": {
      "text/plain": [
       "248.75"
      ]
     },
     "execution_count": 9,
     "metadata": {},
     "output_type": "execute_result"
    }
   ],
   "source": [
    "IQR = 436.25 - 187.5\n",
    "IQR"
   ]
  },
  {
   "cell_type": "code",
   "execution_count": 10,
   "id": "c78bf02a",
   "metadata": {},
   "outputs": [
    {
     "data": {
      "text/plain": [
       "239.6771555423856"
      ]
     },
     "execution_count": 10,
     "metadata": {},
     "output_type": "execute_result"
    }
   ],
   "source": [
    "# Desviacion standard\n",
    "pesos_std = np.std(pesos)\n",
    "pesos_std"
   ]
  },
  {
   "cell_type": "markdown",
   "id": "f17db39f",
   "metadata": {},
   "source": [
    "El coeficiente de simetría (skewness) se define como el tercer momento dividido por la desviación estandar al cubo, tiene la fórmula siguiente:\n",
    "\n",
    "$$\\frac{1}{N} * \\frac{\\sum_{n=1}^{n} (Xi)-\\bar{X})^{3}}{\\sigma^3}$$"
   ]
  },
  {
   "cell_type": "code",
   "execution_count": 12,
   "id": "ec63e595",
   "metadata": {},
   "outputs": [],
   "source": [
    "# Coeficiente de simetría\n",
    "pow3 = lambda x: x*x*x"
   ]
  },
  {
   "cell_type": "code",
   "execution_count": 13,
   "id": "e821f78a",
   "metadata": {},
   "outputs": [],
   "source": [
    "tercer_momento = lambda x: pow3(x - pesos_media)"
   ]
  },
  {
   "cell_type": "code",
   "execution_count": 14,
   "id": "c7313e49",
   "metadata": {},
   "outputs": [
    {
     "data": {
      "text/plain": [
       "1.3623858394083475"
      ]
     },
     "execution_count": 14,
     "metadata": {},
     "output_type": "execute_result"
    }
   ],
   "source": [
    "simetria_pesos = sum(map(tercer_momento, pesos)) / (12*pow3(pesos_std))\n",
    "simetria_pesos"
   ]
  },
  {
   "cell_type": "code",
   "execution_count": 15,
   "id": "7ce9bbe2",
   "metadata": {},
   "outputs": [
    {
     "data": {
      "text/plain": [
       "1.3623858394083481"
      ]
     },
     "execution_count": 15,
     "metadata": {},
     "output_type": "execute_result"
    }
   ],
   "source": [
    "# una mejor forma es usar la función scipy.stats.skew\n",
    "stats.skew(pesos)"
   ]
  },
  {
   "cell_type": "markdown",
   "id": "a9eab050",
   "metadata": {},
   "source": [
    "# Coeficiente de curtosis\n",
    "\n",
    "El coeficiente de oblicuidad o curtosis se define como el cuarto momento dividido por la desviación estandar a la cuarta, tiene la fórmula siguiente:\n",
    "\n",
    "$$\\frac{1}{N} * \\frac{\\sum_{n=1}^{n} (Xi)-\\bar{X})^{4}}{\\sigma^4} - 3$$"
   ]
  },
  {
   "cell_type": "code",
   "execution_count": null,
   "id": "47bd715f",
   "metadata": {},
   "outputs": [],
   "source": [
    "pow4 =lambda x: "
   ]
  }
 ],
 "metadata": {
  "kernelspec": {
   "display_name": "Python 3",
   "language": "python",
   "name": "python3"
  },
  "language_info": {
   "codemirror_mode": {
    "name": "ipython",
    "version": 3
   },
   "file_extension": ".py",
   "mimetype": "text/x-python",
   "name": "python",
   "nbconvert_exporter": "python",
   "pygments_lexer": "ipython3",
   "version": "3.9.2"
  }
 },
 "nbformat": 4,
 "nbformat_minor": 5
}
