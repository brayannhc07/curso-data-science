{
 "cells": [
  {
   "cell_type": "code",
   "execution_count": 4,
   "metadata": {},
   "outputs": [
    {
     "name": "stdout",
     "output_type": "stream",
     "text": [
      "Hola!\n"
     ]
    }
   ],
   "source": [
    "print(\"Hola!\")"
   ]
  },
  {
   "cell_type": "code",
   "execution_count": 5,
   "metadata": {},
   "outputs": [
    {
     "name": "stdout",
     "output_type": "stream",
     "text": [
      "0\n",
      "1\n",
      "2\n",
      "3\n",
      "4\n",
      "5\n",
      "6\n",
      "7\n",
      "8\n",
      "9\n"
     ]
    }
   ],
   "source": [
    "for i in range(10):\n",
    "    print(i)"
   ]
  },
  {
   "cell_type": "markdown",
   "metadata": {},
   "source": [
    "**Esto va en negritas**\n",
    "\n",
    "*Esto va en cursivas*\n",
    "\n",
    "### Introducción a Jupiter\n",
    "\n",
    "- Elemento 1\n",
    "  - Elemento 1.1\n",
    "\n",
    "<hr/>\n",
    "\n",
    "![perrito](https://image.freepik.com/foto-gratis/lindo-perrito-sonriente_84738-2415.jpg)"
   ]
  },
  {
   "cell_type": "code",
   "execution_count": 4,
   "metadata": {},
   "outputs": [],
   "source": [
    "import matplotlib.pyplot as plt "
   ]
  },
  {
   "cell_type": "code",
   "execution_count": 6,
   "metadata": {},
   "outputs": [],
   "source": [
    "plt??"
   ]
  },
  {
   "cell_type": "markdown",
   "metadata": {},
   "source": [
    "### Instalar paquetes\n",
    "\n",
    "Instalar librerías y paquetes desde jupyter en el mismo entorno."
   ]
  },
  {
   "cell_type": "code",
   "execution_count": 6,
   "metadata": {},
   "outputs": [
    {
     "name": "stdout",
     "output_type": "stream",
     "text": [
      "Collecting package metadata (current_repodata.json): done\n",
      "Solving environment: done\n",
      "\n",
      "## Package Plan ##\n",
      "\n",
      "  environment location: /home/bryan/anaconda3/envs/data\n",
      "\n",
      "  added / updated specs:\n",
      "    - numpy\n",
      "\n",
      "\n",
      "The following packages will be downloaded:\n",
      "\n",
      "    package                    |            build\n",
      "    ---------------------------|-----------------\n",
      "    ca-certificates-2021.4.13  |       h06a4308_1         114 KB\n",
      "    certifi-2020.12.5          |   py39h06a4308_0         140 KB\n",
      "    intel-openmp-2021.2.0      |     h06a4308_610         1.3 MB\n",
      "    mkl-2021.2.0               |     h06a4308_296       144.3 MB\n",
      "    mkl-service-2.3.0          |   py39h27cfd23_1          57 KB\n",
      "    mkl_fft-1.3.0              |   py39h42c9631_2         179 KB\n",
      "    mkl_random-1.2.1           |   py39ha9443f7_2         310 KB\n",
      "    numpy-1.20.1               |   py39h93e21f0_0          22 KB\n",
      "    numpy-base-1.20.1          |   py39h7d8b39e_0         4.6 MB\n",
      "    openssl-1.1.1k             |       h27cfd23_0         2.5 MB\n",
      "    ------------------------------------------------------------\n",
      "                                           Total:       153.5 MB\n",
      "\n",
      "The following NEW packages will be INSTALLED:\n",
      "\n",
      "  blas               pkgs/main/linux-64::blas-1.0-mkl\n",
      "  intel-openmp       pkgs/main/linux-64::intel-openmp-2021.2.0-h06a4308_610\n",
      "  mkl                pkgs/main/linux-64::mkl-2021.2.0-h06a4308_296\n",
      "  mkl-service        pkgs/main/linux-64::mkl-service-2.3.0-py39h27cfd23_1\n",
      "  mkl_fft            pkgs/main/linux-64::mkl_fft-1.3.0-py39h42c9631_2\n",
      "  mkl_random         pkgs/main/linux-64::mkl_random-1.2.1-py39ha9443f7_2\n",
      "  numpy              pkgs/main/linux-64::numpy-1.20.1-py39h93e21f0_0\n",
      "  numpy-base         pkgs/main/linux-64::numpy-base-1.20.1-py39h7d8b39e_0\n",
      "\n",
      "The following packages will be UPDATED:\n",
      "\n",
      "  ca-certificates    conda-forge::ca-certificates-2020.12.~ --> pkgs/main::ca-certificates-2021.4.13-h06a4308_1\n",
      "\n",
      "The following packages will be SUPERSEDED by a higher-priority channel:\n",
      "\n",
      "  certifi            conda-forge::certifi-2020.12.5-py39hf~ --> pkgs/main::certifi-2020.12.5-py39h06a4308_0\n",
      "  openssl            conda-forge::openssl-1.1.1k-h7f98852_0 --> pkgs/main::openssl-1.1.1k-h27cfd23_0\n",
      "\n",
      "\n",
      "\n",
      "Downloading and Extracting Packages\n",
      "mkl_fft-1.3.0        | 179 KB    | ##################################### | 100% \n",
      "numpy-base-1.20.1    | 4.6 MB    | ##################################### | 100% \n",
      "mkl-service-2.3.0    | 57 KB     | ##################################### | 100% \n",
      "mkl-2021.2.0         | 144.3 MB  | ##################################### | 100% \n",
      "intel-openmp-2021.2. | 1.3 MB    | ##################################### | 100% \n",
      "numpy-1.20.1         | 22 KB     | ##################################### | 100% \n",
      "openssl-1.1.1k       | 2.5 MB    | ##################################### | 100% \n",
      "ca-certificates-2021 | 114 KB    | ##################################### | 100% \n",
      "mkl_random-1.2.1     | 310 KB    | ##################################### | 100% \n",
      "certifi-2020.12.5    | 140 KB    | ##################################### | 100% \n",
      "Preparing transaction: done\n",
      "Verifying transaction: done\n",
      "Executing transaction: done\n"
     ]
    }
   ],
   "source": [
    "import sys\n",
    "!conda install --yes --prefix {sys.prefix} numpy\n",
    "import numpy as np"
   ]
  },
  {
   "cell_type": "code",
   "execution_count": 10,
   "metadata": {},
   "outputs": [],
   "source": [
    "import numpy as np"
   ]
  },
  {
   "cell_type": "code",
   "execution_count": 9,
   "metadata": {},
   "outputs": [
    {
     "data": {
      "text/plain": [
       "numpy.ndarray"
      ]
     },
     "execution_count": 9,
     "metadata": {},
     "output_type": "execute_result"
    }
   ],
   "source": [
    "array_id = np.array([4,5,3])\n",
    "type(array_id)"
   ]
  },
  {
   "cell_type": "code",
   "execution_count": null,
   "metadata": {},
   "outputs": [],
   "source": []
  }
 ],
 "metadata": {
  "kernelspec": {
   "display_name": "Python 3",
   "language": "python",
   "name": "python3"
  },
  "language_info": {
   "codemirror_mode": {
    "name": "ipython",
    "version": 3
   },
   "file_extension": ".py",
   "mimetype": "text/x-python",
   "name": "python",
   "nbconvert_exporter": "python",
   "pygments_lexer": "ipython3",
   "version": "3.9.2"
  }
 },
 "nbformat": 4,
 "nbformat_minor": 4
}
