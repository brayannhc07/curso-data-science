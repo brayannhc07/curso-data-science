{
 "cells": [
  {
   "cell_type": "code",
   "execution_count": 5,
   "id": "1f0552f6",
   "metadata": {},
   "outputs": [],
   "source": [
    "import pandas as pd"
   ]
  },
  {
   "cell_type": "markdown",
   "id": "d83f5338",
   "metadata": {},
   "source": [
    "La magia de matplotlib notebook, es muy útil para hacer plots más visibles, pero es un poco complicada de usa, ya que require cerrar cada plot para poder continuar.\n",
    "\n",
    "Alternativamente, se puede usar la magia de %matplotlib inline, que es más sencilla, ya que simplemente muestra el gráfico original en jupyter notebook. Para modificar el tamaño de los plots en este caso, basta con cambiar el parámetro general de matplotlib figure.figsize al tamaño de gráfico deseado (en pulgadas)."
   ]
  },
  {
   "cell_type": "code",
   "execution_count": 6,
   "id": "f5646717",
   "metadata": {},
   "outputs": [],
   "source": [
    "%matplotlib inline\n",
    "import matplotlib.pyplot as plt\n",
    "\n",
    "plt.rcParams[\"figure.figsize\"] = (10,10) "
   ]
  },
  {
   "cell_type": "markdown",
   "id": "1e353e4a",
   "metadata": {},
   "source": [
    "En este apartado vamoas a revisar el dataset. El objetibvo será tener un dataset lo más parecido al original, pero sin fallos en el mismo que puedan llevarnos a sacar conclusiones erróneas.\n",
    "\n",
    "El input de ete paso es el output del anterior."
   ]
  },
  {
   "cell_type": "code",
   "execution_count": 7,
   "id": "c5511f50",
   "metadata": {},
   "outputs": [],
   "source": [
    "vehiculos = pd.read_csv(\"./vehiculos.1.procesado_inicial.csv\")"
   ]
  },
  {
   "cell_type": "code",
   "execution_count": 8,
   "id": "619700e2",
   "metadata": {},
   "outputs": [
    {
     "data": {
      "text/plain": [
       "(38436, 11)"
      ]
     },
     "execution_count": 8,
     "metadata": {},
     "output_type": "execute_result"
    }
   ],
   "source": [
    "vehiculos.shape"
   ]
  },
  {
   "cell_type": "markdown",
   "id": "c12c9c05",
   "metadata": {},
   "source": [
    "#### Duplicados\n",
    "En este apartado se intentan ver dos cosas:\n",
    "\n",
    "- Asegurarse de que los datos que no deberían estar duplicados no lo están (ejemplo, números de teléfono)\n",
    "- Revisar si hay columnas que tengan un alto número de duplicados, ya que no aportan mucha información\n",
    "\n",
    "Recordemos que las entidades posibles eran:\n",
    "\n",
    "* fabricante\n",
    "* fabricante-modelo\n",
    "* fabricante-modelo-año\n",
    "* fabricante-año\n",
    "\n",
    "De estas entidades, las únicas que no se deberían repetir coches específicos, es decir, fabricante-modelo-año\n"
   ]
  },
  {
   "cell_type": "code",
   "execution_count": 9,
   "id": "c70ea4e2",
   "metadata": {},
   "outputs": [],
   "source": [
    "vehiculos[\"modelo_unico\"] = vehiculos.fabricante.str.cat([vehiculos.modelo, vehiculos.year.apply(str)], sep=\"-\")"
   ]
  },
  {
   "cell_type": "code",
   "execution_count": 10,
   "id": "6dd62e51",
   "metadata": {},
   "outputs": [
    {
     "data": {
      "text/plain": [
       "Jeep-Cherokee/Wagoneer-1985               24\n",
       "Ford-F150 Pickup 2WD-1984                 19\n",
       "GMC-C15 Pickup 2WD-1984                   19\n",
       "Chevrolet-C10 Pickup 2WD-1984             19\n",
       "GMC-C15 Pickup 2WD-1985                   18\n",
       "                                          ..\n",
       "Mercedes-Benz-C300-2015                    1\n",
       "Mercedes-Benz-C300-2009                    1\n",
       "Mercedes-Benz-C280 4matic-2007             1\n",
       "Mercedes-Benz-C280 4matic-2006             1\n",
       "smart-fortwo electric drive coupe-2016     1\n",
       "Name: modelo_unico, Length: 17448, dtype: int64"
      ]
     },
     "execution_count": 10,
     "metadata": {},
     "output_type": "execute_result"
    }
   ],
   "source": [
    "vehiculos.modelo_unico.value_counts()"
   ]
  },
  {
   "cell_type": "markdown",
   "id": "0ebb0528",
   "metadata": {},
   "source": [
    "Nos damos cuenta de que hay muchos repetidos."
   ]
  },
  {
   "cell_type": "code",
   "execution_count": 11,
   "id": "9b6d789d",
   "metadata": {},
   "outputs": [
    {
     "data": {
      "text/html": [
       "<div>\n",
       "<style scoped>\n",
       "    .dataframe tbody tr th:only-of-type {\n",
       "        vertical-align: middle;\n",
       "    }\n",
       "\n",
       "    .dataframe tbody tr th {\n",
       "        vertical-align: top;\n",
       "    }\n",
       "\n",
       "    .dataframe thead th {\n",
       "        text-align: right;\n",
       "    }\n",
       "</style>\n",
       "<table border=\"1\" class=\"dataframe\">\n",
       "  <thead>\n",
       "    <tr style=\"text-align: right;\">\n",
       "      <th></th>\n",
       "      <th>fabricante</th>\n",
       "      <th>modelo</th>\n",
       "      <th>year</th>\n",
       "      <th>desplazamiento</th>\n",
       "      <th>cilindros</th>\n",
       "      <th>trany</th>\n",
       "      <th>traccion</th>\n",
       "      <th>clase</th>\n",
       "      <th>combustible</th>\n",
       "      <th>consumo</th>\n",
       "      <th>co2</th>\n",
       "      <th>modelo_unico</th>\n",
       "    </tr>\n",
       "  </thead>\n",
       "  <tbody>\n",
       "    <tr>\n",
       "      <th>4957</th>\n",
       "      <td>Chevrolet</td>\n",
       "      <td>C1500 Pickup 2WD</td>\n",
       "      <td>1991</td>\n",
       "      <td>4.3</td>\n",
       "      <td>6.0</td>\n",
       "      <td>Automatic 4-spd</td>\n",
       "      <td>Rear-Wheel Drive</td>\n",
       "      <td>Standard Pickup Trucks</td>\n",
       "      <td>Regular</td>\n",
       "      <td>17</td>\n",
       "      <td>522.764706</td>\n",
       "      <td>Chevrolet-C1500 Pickup 2WD-1991</td>\n",
       "    </tr>\n",
       "    <tr>\n",
       "      <th>4958</th>\n",
       "      <td>Chevrolet</td>\n",
       "      <td>C1500 Pickup 2WD</td>\n",
       "      <td>1991</td>\n",
       "      <td>4.3</td>\n",
       "      <td>6.0</td>\n",
       "      <td>Manual 4-spd</td>\n",
       "      <td>Rear-Wheel Drive</td>\n",
       "      <td>Standard Pickup Trucks</td>\n",
       "      <td>Regular</td>\n",
       "      <td>17</td>\n",
       "      <td>522.764706</td>\n",
       "      <td>Chevrolet-C1500 Pickup 2WD-1991</td>\n",
       "    </tr>\n",
       "    <tr>\n",
       "      <th>4959</th>\n",
       "      <td>Chevrolet</td>\n",
       "      <td>C1500 Pickup 2WD</td>\n",
       "      <td>1991</td>\n",
       "      <td>4.3</td>\n",
       "      <td>6.0</td>\n",
       "      <td>Manual 5-spd</td>\n",
       "      <td>Rear-Wheel Drive</td>\n",
       "      <td>Standard Pickup Trucks</td>\n",
       "      <td>Regular</td>\n",
       "      <td>17</td>\n",
       "      <td>522.764706</td>\n",
       "      <td>Chevrolet-C1500 Pickup 2WD-1991</td>\n",
       "    </tr>\n",
       "    <tr>\n",
       "      <th>4960</th>\n",
       "      <td>Chevrolet</td>\n",
       "      <td>C1500 Pickup 2WD</td>\n",
       "      <td>1991</td>\n",
       "      <td>4.3</td>\n",
       "      <td>6.0</td>\n",
       "      <td>Manual 5-spd</td>\n",
       "      <td>Rear-Wheel Drive</td>\n",
       "      <td>Standard Pickup Trucks</td>\n",
       "      <td>Regular</td>\n",
       "      <td>17</td>\n",
       "      <td>522.764706</td>\n",
       "      <td>Chevrolet-C1500 Pickup 2WD-1991</td>\n",
       "    </tr>\n",
       "    <tr>\n",
       "      <th>4961</th>\n",
       "      <td>Chevrolet</td>\n",
       "      <td>C1500 Pickup 2WD</td>\n",
       "      <td>1991</td>\n",
       "      <td>5.0</td>\n",
       "      <td>8.0</td>\n",
       "      <td>Automatic 4-spd</td>\n",
       "      <td>Rear-Wheel Drive</td>\n",
       "      <td>Standard Pickup Trucks</td>\n",
       "      <td>Regular</td>\n",
       "      <td>15</td>\n",
       "      <td>592.466667</td>\n",
       "      <td>Chevrolet-C1500 Pickup 2WD-1991</td>\n",
       "    </tr>\n",
       "  </tbody>\n",
       "</table>\n",
       "</div>"
      ],
      "text/plain": [
       "     fabricante            modelo  year  desplazamiento  cilindros  \\\n",
       "4957  Chevrolet  C1500 Pickup 2WD  1991             4.3        6.0   \n",
       "4958  Chevrolet  C1500 Pickup 2WD  1991             4.3        6.0   \n",
       "4959  Chevrolet  C1500 Pickup 2WD  1991             4.3        6.0   \n",
       "4960  Chevrolet  C1500 Pickup 2WD  1991             4.3        6.0   \n",
       "4961  Chevrolet  C1500 Pickup 2WD  1991             5.0        8.0   \n",
       "\n",
       "                trany          traccion                   clase combustible  \\\n",
       "4957  Automatic 4-spd  Rear-Wheel Drive  Standard Pickup Trucks     Regular   \n",
       "4958     Manual 4-spd  Rear-Wheel Drive  Standard Pickup Trucks     Regular   \n",
       "4959     Manual 5-spd  Rear-Wheel Drive  Standard Pickup Trucks     Regular   \n",
       "4960     Manual 5-spd  Rear-Wheel Drive  Standard Pickup Trucks     Regular   \n",
       "4961  Automatic 4-spd  Rear-Wheel Drive  Standard Pickup Trucks     Regular   \n",
       "\n",
       "      consumo         co2                     modelo_unico  \n",
       "4957       17  522.764706  Chevrolet-C1500 Pickup 2WD-1991  \n",
       "4958       17  522.764706  Chevrolet-C1500 Pickup 2WD-1991  \n",
       "4959       17  522.764706  Chevrolet-C1500 Pickup 2WD-1991  \n",
       "4960       17  522.764706  Chevrolet-C1500 Pickup 2WD-1991  \n",
       "4961       15  592.466667  Chevrolet-C1500 Pickup 2WD-1991  "
      ]
     },
     "execution_count": 11,
     "metadata": {},
     "output_type": "execute_result"
    }
   ],
   "source": [
    "vehiculos[vehiculos.modelo_unico==\"Chevrolet-C1500 Pickup 2WD-1991\"].head()"
   ]
  },
  {
   "cell_type": "markdown",
   "id": "b5f599e8",
   "metadata": {},
   "source": [
    "Como vemos, cada modelo único tiene diferentes configuraciones de cada coche (por ejemplo, 3 o 4 velocidades)\n",
    "Por lo tanto, solo vamos a considerar duplicados aquellos que sean idénticos a todas sus columnas"
   ]
  },
  {
   "cell_type": "code",
   "execution_count": 12,
   "id": "544b719f",
   "metadata": {},
   "outputs": [
    {
     "data": {
      "text/plain": [
       "(1506, 12)"
      ]
     },
     "execution_count": 12,
     "metadata": {},
     "output_type": "execute_result"
    }
   ],
   "source": [
    "vehiculos[vehiculos.duplicated()].shape"
   ]
  },
  {
   "cell_type": "markdown",
   "id": "5ce53934",
   "metadata": {},
   "source": [
    "Vemos que hay 1506 duplicados, podemos eliminarlos para el resto del análisis, ya que pueden distorsionar las conclusiones"
   ]
  },
  {
   "cell_type": "code",
   "execution_count": 13,
   "id": "7df36dbe",
   "metadata": {},
   "outputs": [
    {
     "data": {
      "text/plain": [
       "(36930, 12)"
      ]
     },
     "execution_count": 13,
     "metadata": {},
     "output_type": "execute_result"
    }
   ],
   "source": [
    "vehiculos = vehiculos.drop_duplicates()\n",
    "vehiculos.shape"
   ]
  },
  {
   "cell_type": "markdown",
   "id": "85218892",
   "metadata": {},
   "source": [
    "Borramos la columna modelo_unico"
   ]
  },
  {
   "cell_type": "code",
   "execution_count": 14,
   "id": "545a5644",
   "metadata": {},
   "outputs": [],
   "source": [
    "del vehiculos[\"modelo_unico\"]"
   ]
  },
  {
   "cell_type": "markdown",
   "id": "a0d0fc04",
   "metadata": {},
   "source": [
    "Ahora falta ver si hay variables en las que haya una gran cantidad de records que tengan el mismo valor (cardinalidad)"
   ]
  },
  {
   "cell_type": "code",
   "execution_count": 16,
   "id": "d093ea6b",
   "metadata": {},
   "outputs": [
    {
     "name": "stdout",
     "output_type": "stream",
     "text": [
      "fabricante | 0.1-0.0 | object\n",
      "modelo | 0.005-0.0 | object\n",
      "year | 0.038-0.007 | int64\n",
      "desplazamiento | 0.095-0.0 | float64\n",
      "cilindros | 0.38-0.0 | float64\n",
      "trany | 0.287-0.0 | object\n",
      "traccion | 0.353-0.005 | object\n",
      "clase | 0.145-0.0 | object\n",
      "combustible | 0.652-0.0 | object\n",
      "consumo | 0.097-0.0 | int64\n",
      "co2 | 0.084-0.0 | float64\n"
     ]
    }
   ],
   "source": [
    "n_records = len(vehiculos)\n",
    "def valores_duplicados_col(df):\n",
    "    for columna in df:\n",
    "        n_por_valor = df[columna].value_counts()\n",
    "        mas_comun = n_por_valor.iloc[0]\n",
    "        menos_comun = n_por_valor.iloc[-1]\n",
    "        print(\"{} | {}-{} | {}\".format(\n",
    "            df[columna].name,\n",
    "            round(mas_comun / (1.0 * n_records), 3),\n",
    "            round(menos_comun / (1.0 * n_records), 3),\n",
    "            df[columna].dtype\n",
    "        ))\n",
    "        \n",
    "valores_duplicados_col(vehiculos)"
   ]
  },
  {
   "cell_type": "markdown",
   "id": "d13a5a2a",
   "metadata": {},
   "source": [
    "Vemos que los campos traccion, transmission, cilindros y combustible pueden tener un problema de valores repetidos, en realidad, 30% no es significativo, sería distinto si el valor más común tuviera un 90%"
   ]
  },
  {
   "cell_type": "code",
   "execution_count": 18,
   "id": "4754c2da",
   "metadata": {},
   "outputs": [
    {
     "data": {
      "text/plain": [
       "Front-Wheel Drive             0.360280\n",
       "Rear-Wheel Drive              0.352863\n",
       "4-Wheel or All-Wheel Drive    0.177345\n",
       "All-Wheel Drive               0.062325\n",
       "4-Wheel Drive                 0.030886\n",
       "2-Wheel Drive                 0.011402\n",
       "Part-time 4-Wheel Drive       0.004899\n",
       "Name: traccion, dtype: float64"
      ]
     },
     "execution_count": 18,
     "metadata": {},
     "output_type": "execute_result"
    }
   ],
   "source": [
    "vehiculos.traccion.value_counts(normalize=True)"
   ]
  }
 ],
 "metadata": {
  "kernelspec": {
   "display_name": "Python 3",
   "language": "python",
   "name": "python3"
  },
  "language_info": {
   "codemirror_mode": {
    "name": "ipython",
    "version": 3
   },
   "file_extension": ".py",
   "mimetype": "text/x-python",
   "name": "python",
   "nbconvert_exporter": "python",
   "pygments_lexer": "ipython3",
   "version": "3.9.2"
  }
 },
 "nbformat": 4,
 "nbformat_minor": 5
}
