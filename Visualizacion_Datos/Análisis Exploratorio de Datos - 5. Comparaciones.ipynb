{
 "cells": [
  {
   "cell_type": "code",
   "execution_count": 1,
   "id": "358144bc",
   "metadata": {},
   "outputs": [],
   "source": [
    "import pandas as pd\n",
    "import numpy as np\n",
    "import matplotlib.pyplot as plt\n",
    "import seaborn as sns"
   ]
  },
  {
   "cell_type": "code",
   "execution_count": 2,
   "id": "ba6bdba4",
   "metadata": {},
   "outputs": [],
   "source": [
    "%matplotlib inline\n",
    "plt.rcParams[\"figure.figsize\"] = (10,10)"
   ]
  },
  {
   "cell_type": "markdown",
   "id": "673866ae",
   "metadata": {},
   "source": [
    "## Lectura de Datos"
   ]
  },
  {
   "cell_type": "code",
   "execution_count": 3,
   "id": "adf2a164",
   "metadata": {},
   "outputs": [],
   "source": [
    "vehiculos = pd.read_pickle(\"./vehiculos.3.variables_agrupadas.pkl\")"
   ]
  },
  {
   "cell_type": "code",
   "execution_count": 4,
   "id": "2447d6f5",
   "metadata": {},
   "outputs": [
    {
     "data": {
      "text/plain": [
       "fabricante                object\n",
       "modelo                    object\n",
       "year                       int64\n",
       "desplazamiento           float64\n",
       "cilindros                float64\n",
       "transmision               object\n",
       "traccion                  object\n",
       "clase                     object\n",
       "combustible               object\n",
       "consumo                    int64\n",
       "co2                      float64\n",
       "clase_tipo              category\n",
       "traccion_tipo           category\n",
       "transmision_tipo        category\n",
       "combustible_tipo        category\n",
       "tamano_motor_tipo       category\n",
       "consumo_tipo            category\n",
       "co2_tipo                category\n",
       "consumo_litros_milla     float64\n",
       "dtype: object"
      ]
     },
     "execution_count": 4,
     "metadata": {},
     "output_type": "execute_result"
    }
   ],
   "source": [
    "vehiculos.dtypes"
   ]
  },
  {
   "cell_type": "code",
   "execution_count": 5,
   "id": "6250bc50",
   "metadata": {},
   "outputs": [
    {
     "data": {
      "text/html": [
       "<div>\n",
       "<style scoped>\n",
       "    .dataframe tbody tr th:only-of-type {\n",
       "        vertical-align: middle;\n",
       "    }\n",
       "\n",
       "    .dataframe tbody tr th {\n",
       "        vertical-align: top;\n",
       "    }\n",
       "\n",
       "    .dataframe thead th {\n",
       "        text-align: right;\n",
       "    }\n",
       "</style>\n",
       "<table border=\"1\" class=\"dataframe\">\n",
       "  <thead>\n",
       "    <tr style=\"text-align: right;\">\n",
       "      <th></th>\n",
       "      <th>fabricante</th>\n",
       "      <th>modelo</th>\n",
       "      <th>year</th>\n",
       "      <th>desplazamiento</th>\n",
       "      <th>cilindros</th>\n",
       "      <th>transmision</th>\n",
       "      <th>traccion</th>\n",
       "      <th>clase</th>\n",
       "      <th>combustible</th>\n",
       "      <th>consumo</th>\n",
       "      <th>co2</th>\n",
       "      <th>clase_tipo</th>\n",
       "      <th>traccion_tipo</th>\n",
       "      <th>transmision_tipo</th>\n",
       "      <th>combustible_tipo</th>\n",
       "      <th>tamano_motor_tipo</th>\n",
       "      <th>consumo_tipo</th>\n",
       "      <th>co2_tipo</th>\n",
       "      <th>consumo_litros_milla</th>\n",
       "    </tr>\n",
       "  </thead>\n",
       "  <tbody>\n",
       "    <tr>\n",
       "      <th>0</th>\n",
       "      <td>AM General</td>\n",
       "      <td>DJ Po Vehicle 2WD</td>\n",
       "      <td>1984</td>\n",
       "      <td>2.5</td>\n",
       "      <td>4.0</td>\n",
       "      <td>Automatic 3-spd</td>\n",
       "      <td>2-Wheel Drive</td>\n",
       "      <td>Special Purpose Vehicle 2WD</td>\n",
       "      <td>Regular</td>\n",
       "      <td>17</td>\n",
       "      <td>522.764706</td>\n",
       "      <td>Vehículos Especiales</td>\n",
       "      <td>dos</td>\n",
       "      <td>Automatica</td>\n",
       "      <td>Normal</td>\n",
       "      <td>pequeño</td>\n",
       "      <td>alto</td>\n",
       "      <td>alto</td>\n",
       "      <td>0.222671</td>\n",
       "    </tr>\n",
       "    <tr>\n",
       "      <th>1</th>\n",
       "      <td>AM General</td>\n",
       "      <td>FJ8c Post Office</td>\n",
       "      <td>1984</td>\n",
       "      <td>4.2</td>\n",
       "      <td>6.0</td>\n",
       "      <td>Automatic 3-spd</td>\n",
       "      <td>2-Wheel Drive</td>\n",
       "      <td>Special Purpose Vehicle 2WD</td>\n",
       "      <td>Regular</td>\n",
       "      <td>13</td>\n",
       "      <td>683.615385</td>\n",
       "      <td>Vehículos Especiales</td>\n",
       "      <td>dos</td>\n",
       "      <td>Automatica</td>\n",
       "      <td>Normal</td>\n",
       "      <td>grande</td>\n",
       "      <td>muy alto</td>\n",
       "      <td>muy alto</td>\n",
       "      <td>0.291185</td>\n",
       "    </tr>\n",
       "    <tr>\n",
       "      <th>2</th>\n",
       "      <td>AM General</td>\n",
       "      <td>Post Office DJ5 2WD</td>\n",
       "      <td>1985</td>\n",
       "      <td>2.5</td>\n",
       "      <td>4.0</td>\n",
       "      <td>Automatic 3-spd</td>\n",
       "      <td>Rear-Wheel Drive</td>\n",
       "      <td>Special Purpose Vehicle 2WD</td>\n",
       "      <td>Regular</td>\n",
       "      <td>16</td>\n",
       "      <td>555.437500</td>\n",
       "      <td>Vehículos Especiales</td>\n",
       "      <td>dos</td>\n",
       "      <td>Automatica</td>\n",
       "      <td>Normal</td>\n",
       "      <td>pequeño</td>\n",
       "      <td>alto</td>\n",
       "      <td>alto</td>\n",
       "      <td>0.236588</td>\n",
       "    </tr>\n",
       "    <tr>\n",
       "      <th>3</th>\n",
       "      <td>AM General</td>\n",
       "      <td>Post Office DJ8 2WD</td>\n",
       "      <td>1985</td>\n",
       "      <td>4.2</td>\n",
       "      <td>6.0</td>\n",
       "      <td>Automatic 3-spd</td>\n",
       "      <td>Rear-Wheel Drive</td>\n",
       "      <td>Special Purpose Vehicle 2WD</td>\n",
       "      <td>Regular</td>\n",
       "      <td>13</td>\n",
       "      <td>683.615385</td>\n",
       "      <td>Vehículos Especiales</td>\n",
       "      <td>dos</td>\n",
       "      <td>Automatica</td>\n",
       "      <td>Normal</td>\n",
       "      <td>grande</td>\n",
       "      <td>muy alto</td>\n",
       "      <td>muy alto</td>\n",
       "      <td>0.291185</td>\n",
       "    </tr>\n",
       "    <tr>\n",
       "      <th>4</th>\n",
       "      <td>ASC Incorporated</td>\n",
       "      <td>GNX</td>\n",
       "      <td>1987</td>\n",
       "      <td>3.8</td>\n",
       "      <td>6.0</td>\n",
       "      <td>Automatic 4-spd</td>\n",
       "      <td>Rear-Wheel Drive</td>\n",
       "      <td>Midsize Cars</td>\n",
       "      <td>Premium</td>\n",
       "      <td>16</td>\n",
       "      <td>555.437500</td>\n",
       "      <td>Coches Medianos</td>\n",
       "      <td>dos</td>\n",
       "      <td>Automatica</td>\n",
       "      <td>Premium</td>\n",
       "      <td>grande</td>\n",
       "      <td>alto</td>\n",
       "      <td>alto</td>\n",
       "      <td>0.236588</td>\n",
       "    </tr>\n",
       "  </tbody>\n",
       "</table>\n",
       "</div>"
      ],
      "text/plain": [
       "         fabricante               modelo  year  desplazamiento  cilindros  \\\n",
       "0        AM General    DJ Po Vehicle 2WD  1984             2.5        4.0   \n",
       "1        AM General     FJ8c Post Office  1984             4.2        6.0   \n",
       "2        AM General  Post Office DJ5 2WD  1985             2.5        4.0   \n",
       "3        AM General  Post Office DJ8 2WD  1985             4.2        6.0   \n",
       "4  ASC Incorporated                  GNX  1987             3.8        6.0   \n",
       "\n",
       "       transmision          traccion                        clase combustible  \\\n",
       "0  Automatic 3-spd     2-Wheel Drive  Special Purpose Vehicle 2WD     Regular   \n",
       "1  Automatic 3-spd     2-Wheel Drive  Special Purpose Vehicle 2WD     Regular   \n",
       "2  Automatic 3-spd  Rear-Wheel Drive  Special Purpose Vehicle 2WD     Regular   \n",
       "3  Automatic 3-spd  Rear-Wheel Drive  Special Purpose Vehicle 2WD     Regular   \n",
       "4  Automatic 4-spd  Rear-Wheel Drive                 Midsize Cars     Premium   \n",
       "\n",
       "   consumo         co2            clase_tipo traccion_tipo transmision_tipo  \\\n",
       "0       17  522.764706  Vehículos Especiales           dos       Automatica   \n",
       "1       13  683.615385  Vehículos Especiales           dos       Automatica   \n",
       "2       16  555.437500  Vehículos Especiales           dos       Automatica   \n",
       "3       13  683.615385  Vehículos Especiales           dos       Automatica   \n",
       "4       16  555.437500       Coches Medianos           dos       Automatica   \n",
       "\n",
       "  combustible_tipo tamano_motor_tipo consumo_tipo  co2_tipo  \\\n",
       "0           Normal           pequeño         alto      alto   \n",
       "1           Normal            grande     muy alto  muy alto   \n",
       "2           Normal           pequeño         alto      alto   \n",
       "3           Normal            grande     muy alto  muy alto   \n",
       "4          Premium            grande         alto      alto   \n",
       "\n",
       "   consumo_litros_milla  \n",
       "0              0.222671  \n",
       "1              0.291185  \n",
       "2              0.236588  \n",
       "3              0.291185  \n",
       "4              0.236588  "
      ]
     },
     "execution_count": 5,
     "metadata": {},
     "output_type": "execute_result"
    }
   ],
   "source": [
    "vehiculos.head()"
   ]
  },
  {
   "cell_type": "code",
   "execution_count": 6,
   "id": "b1f16fbe",
   "metadata": {},
   "outputs": [],
   "source": [
    "from ipywidgets import interact, fixed"
   ]
  },
  {
   "cell_type": "markdown",
   "id": "82c97b1b",
   "metadata": {},
   "source": [
    "## Recuento por múltiples grupos"
   ]
  },
  {
   "cell_type": "code",
   "execution_count": 7,
   "id": "f2ce71aa",
   "metadata": {},
   "outputs": [],
   "source": [
    "def pivot_recuento(df, rows, columns, calc_field):\n",
    "    df_pivot = df.pivot_table(values=calc_field,\n",
    "                                 index=rows,\n",
    "                                 columns=columns,\n",
    "                                 aggfunc=np.size\n",
    "                             ).dropna(axis=0, how=\"all\")\n",
    "    return df_pivot    "
   ]
  },
  {
   "cell_type": "code",
   "execution_count": 8,
   "id": "5cd6602f",
   "metadata": {},
   "outputs": [
    {
     "data": {
      "text/html": [
       "<div>\n",
       "<style scoped>\n",
       "    .dataframe tbody tr th:only-of-type {\n",
       "        vertical-align: middle;\n",
       "    }\n",
       "\n",
       "    .dataframe tbody tr th {\n",
       "        vertical-align: top;\n",
       "    }\n",
       "\n",
       "    .dataframe thead th {\n",
       "        text-align: right;\n",
       "    }\n",
       "</style>\n",
       "<table border=\"1\" class=\"dataframe\">\n",
       "  <thead>\n",
       "    <tr style=\"text-align: right;\">\n",
       "      <th>consumo_tipo</th>\n",
       "      <th>muy bajo</th>\n",
       "      <th>bajo</th>\n",
       "      <th>moderado</th>\n",
       "      <th>alto</th>\n",
       "      <th>muy alto</th>\n",
       "    </tr>\n",
       "    <tr>\n",
       "      <th>combustible_tipo</th>\n",
       "      <th></th>\n",
       "      <th></th>\n",
       "      <th></th>\n",
       "      <th></th>\n",
       "      <th></th>\n",
       "    </tr>\n",
       "  </thead>\n",
       "  <tbody>\n",
       "    <tr>\n",
       "      <th>Hibrido</th>\n",
       "      <td>61.0</td>\n",
       "      <td>6.0</td>\n",
       "      <td>1.0</td>\n",
       "      <td>2.0</td>\n",
       "      <td>NaN</td>\n",
       "    </tr>\n",
       "    <tr>\n",
       "      <th>Normal</th>\n",
       "      <td>5686.0</td>\n",
       "      <td>4931.0</td>\n",
       "      <td>5736.0</td>\n",
       "      <td>3158.0</td>\n",
       "      <td>4567.0</td>\n",
       "    </tr>\n",
       "    <tr>\n",
       "      <th>Otros tipos de combustible</th>\n",
       "      <td>521.0</td>\n",
       "      <td>340.0</td>\n",
       "      <td>508.0</td>\n",
       "      <td>482.0</td>\n",
       "      <td>586.0</td>\n",
       "    </tr>\n",
       "    <tr>\n",
       "      <th>Premium</th>\n",
       "      <td>1386.0</td>\n",
       "      <td>2211.0</td>\n",
       "      <td>3836.0</td>\n",
       "      <td>1146.0</td>\n",
       "      <td>1627.0</td>\n",
       "    </tr>\n",
       "  </tbody>\n",
       "</table>\n",
       "</div>"
      ],
      "text/plain": [
       "consumo_tipo                muy bajo    bajo  moderado    alto  muy alto\n",
       "combustible_tipo                                                        \n",
       "Hibrido                         61.0     6.0       1.0     2.0       NaN\n",
       "Normal                        5686.0  4931.0    5736.0  3158.0    4567.0\n",
       "Otros tipos de combustible     521.0   340.0     508.0   482.0     586.0\n",
       "Premium                       1386.0  2211.0    3836.0  1146.0    1627.0"
      ]
     },
     "execution_count": 8,
     "metadata": {},
     "output_type": "execute_result"
    }
   ],
   "source": [
    "consumo_combustible = pivot_recuento(vehiculos, \"combustible_tipo\", \"consumo_tipo\", \"year\")\n",
    "consumo_combustible"
   ]
  },
  {
   "cell_type": "code",
   "execution_count": 9,
   "id": "cf3cb96b",
   "metadata": {},
   "outputs": [],
   "source": [
    "def heatmap_recuento_tipos(df, col1, col2):\n",
    "    pivot_table = pivot_recuento(df, col1, col2, \"year\")\n",
    "    sns.heatmap(pivot_table, annot=True, fmt=\"g\")\n",
    "    plt.ylabel(col1)\n",
    "    plt.xlabel(col2)\n",
    "    plt.show()"
   ]
  },
  {
   "cell_type": "code",
   "execution_count": 10,
   "id": "f3bd9019",
   "metadata": {},
   "outputs": [
    {
     "data": {
      "application/vnd.jupyter.widget-view+json": {
       "model_id": "2ce8fe68e3bc4ddab4237772f6065433",
       "version_major": 2,
       "version_minor": 0
      },
      "text/plain": [
       "interactive(children=(Dropdown(description='col1', options=('fabricante', 'modelo', 'year', 'desplazamiento', …"
      ]
     },
     "metadata": {},
     "output_type": "display_data"
    },
    {
     "data": {
      "text/plain": [
       "<function __main__.heatmap_recuento_tipos(df, col1, col2)>"
      ]
     },
     "execution_count": 10,
     "metadata": {},
     "output_type": "execute_result"
    }
   ],
   "source": [
    "interact(heatmap_recuento_tipos, col1=vehiculos.columns, col2=vehiculos.columns, df=fixed(vehiculos))"
   ]
  },
  {
   "cell_type": "markdown",
   "id": "959f55b7",
   "metadata": {},
   "source": [
    "## Conclusiones\n",
    "\n",
    "- Hay más vehículos de dos ruedas de bajo consumo qe de tracción a las 4 ruedas.\n",
    "- Los fabricantes se concentran más en vehículos de motor pequeño/bajo consumo y motor muy grande/alto consumo.\n",
    "- La mayor parte de coches tiene transmisión automática, con los coches pequeños teniendo valores similares a coches automáticos y manuales.\n",
    "- Hay una cantidad de camionetas que son más contaminantes que cualquier otro tipo de coche."
   ]
  },
  {
   "cell_type": "markdown",
   "id": "3f4cd453",
   "metadata": {},
   "source": [
    "## Medias por variables categóricas"
   ]
  },
  {
   "cell_type": "code",
   "execution_count": 11,
   "id": "340538ae",
   "metadata": {},
   "outputs": [],
   "source": [
    "def medias_por_categoria(col_grupo, col_calculo):\n",
    "    vehiculos.groupby(col_grupo)[col_calculo].mean().plot.barh()\n",
    "    plt.ylabel(col_grupo)\n",
    "    plt.xlabel(\"Valores medios de {}\".format(col_calculo))\n",
    "    plt.show()"
   ]
  },
  {
   "cell_type": "code",
   "execution_count": 12,
   "id": "257cc66a",
   "metadata": {},
   "outputs": [],
   "source": [
    "columnas_numericas = vehiculos.select_dtypes([\"int64\", \"float64\"]).columns\n",
    "columnas_categorias = vehiculos.select_dtypes([\"object\", \"category\"]).columns\n",
    "columnas_tipo = vehiculos.columns[vehiculos.columns.str.endswith(\"_tipo\")]"
   ]
  },
  {
   "cell_type": "code",
   "execution_count": 13,
   "id": "57efaa23",
   "metadata": {},
   "outputs": [
    {
     "data": {
      "application/vnd.jupyter.widget-view+json": {
       "model_id": "993460d255ca471992755ee93001c598",
       "version_major": 2,
       "version_minor": 0
      },
      "text/plain": [
       "interactive(children=(Dropdown(description='col_grupo', options=('fabricante', 'modelo', 'transmision', 'tracc…"
      ]
     },
     "metadata": {},
     "output_type": "display_data"
    },
    {
     "data": {
      "text/plain": [
       "<function __main__.medias_por_categoria(col_grupo, col_calculo)>"
      ]
     },
     "execution_count": 13,
     "metadata": {},
     "output_type": "execute_result"
    }
   ],
   "source": [
    "interact(medias_por_categoria, col_grupo=columnas_categorias, col_calculo=columnas_numericas)"
   ]
  },
  {
   "cell_type": "markdown",
   "id": "2b234df6",
   "metadata": {},
   "source": [
    "### Conclusiones\n",
    "\n",
    "- Vehiculos con transmision automática tienen valores de co2 y consumo ligeramente más altos\n",
    "- Furgoneta y camionetas tienen el consumo más alto (alrededor de 0.25 litros/milla). Por otra parte, los coches familiares y pequeños tienen menor consumo de gasolina (<0.15 litros/milla)\n",
    "- Los vehículos híbridos emiten menos de la mitad de CO2 que el resto de vehículos (que tienen similares emisiones)."
   ]
  },
  {
   "cell_type": "markdown",
   "id": "04356c08",
   "metadata": {},
   "source": [
    "### Medias por múltiples tipos"
   ]
  },
  {
   "cell_type": "code",
   "execution_count": 19,
   "id": "1ddf2637",
   "metadata": {},
   "outputs": [],
   "source": [
    "def pivot_media(rows, columns, calc_field):\n",
    "    df_pivot = vehiculos.pivot_table(values=calc_field,\n",
    "                                    index=rows,\n",
    "                                    columns=columns,\n",
    "                                    aggfunc=np.mean\n",
    "                                    ).dropna(axis=0, how=\"all\")\n",
    "    return df_pivot\n",
    "    "
   ]
  },
  {
   "cell_type": "code",
   "execution_count": 20,
   "id": "cd77fb74",
   "metadata": {},
   "outputs": [
    {
     "data": {
      "text/html": [
       "<div>\n",
       "<style scoped>\n",
       "    .dataframe tbody tr th:only-of-type {\n",
       "        vertical-align: middle;\n",
       "    }\n",
       "\n",
       "    .dataframe tbody tr th {\n",
       "        vertical-align: top;\n",
       "    }\n",
       "\n",
       "    .dataframe thead th {\n",
       "        text-align: right;\n",
       "    }\n",
       "</style>\n",
       "<table border=\"1\" class=\"dataframe\">\n",
       "  <thead>\n",
       "    <tr style=\"text-align: right;\">\n",
       "      <th>consumo_tipo</th>\n",
       "      <th>muy bajo</th>\n",
       "      <th>bajo</th>\n",
       "      <th>moderado</th>\n",
       "      <th>alto</th>\n",
       "      <th>muy alto</th>\n",
       "    </tr>\n",
       "    <tr>\n",
       "      <th>combustible_tipo</th>\n",
       "      <th></th>\n",
       "      <th></th>\n",
       "      <th></th>\n",
       "      <th></th>\n",
       "      <th></th>\n",
       "    </tr>\n",
       "  </thead>\n",
       "  <tbody>\n",
       "    <tr>\n",
       "      <th>Hibrido</th>\n",
       "      <td>144.213115</td>\n",
       "      <td>274.166667</td>\n",
       "      <td>169.000000</td>\n",
       "      <td>463.000000</td>\n",
       "      <td>NaN</td>\n",
       "    </tr>\n",
       "    <tr>\n",
       "      <th>Normal</th>\n",
       "      <td>329.216213</td>\n",
       "      <td>406.988299</td>\n",
       "      <td>469.701748</td>\n",
       "      <td>538.449897</td>\n",
       "      <td>659.006325</td>\n",
       "    </tr>\n",
       "    <tr>\n",
       "      <th>Otros tipos de combustible</th>\n",
       "      <td>338.857657</td>\n",
       "      <td>426.649875</td>\n",
       "      <td>493.097404</td>\n",
       "      <td>572.344314</td>\n",
       "      <td>634.370636</td>\n",
       "    </tr>\n",
       "    <tr>\n",
       "      <th>Premium</th>\n",
       "      <td>337.768474</td>\n",
       "      <td>409.595587</td>\n",
       "      <td>469.455411</td>\n",
       "      <td>540.596570</td>\n",
       "      <td>676.389701</td>\n",
       "    </tr>\n",
       "  </tbody>\n",
       "</table>\n",
       "</div>"
      ],
      "text/plain": [
       "consumo_tipo                  muy bajo        bajo    moderado        alto  \\\n",
       "combustible_tipo                                                             \n",
       "Hibrido                     144.213115  274.166667  169.000000  463.000000   \n",
       "Normal                      329.216213  406.988299  469.701748  538.449897   \n",
       "Otros tipos de combustible  338.857657  426.649875  493.097404  572.344314   \n",
       "Premium                     337.768474  409.595587  469.455411  540.596570   \n",
       "\n",
       "consumo_tipo                  muy alto  \n",
       "combustible_tipo                        \n",
       "Hibrido                            NaN  \n",
       "Normal                      659.006325  \n",
       "Otros tipos de combustible  634.370636  \n",
       "Premium                     676.389701  "
      ]
     },
     "execution_count": 20,
     "metadata": {},
     "output_type": "execute_result"
    }
   ],
   "source": [
    "pivot_media(\"combustible_tipo\", \"consumo_tipo\", \"co2\")"
   ]
  },
  {
   "cell_type": "code",
   "execution_count": 21,
   "id": "3d670267",
   "metadata": {},
   "outputs": [],
   "source": [
    "def heatmap_medias_tipos(col1, col2, col3):\n",
    "    pivot_table = pivot_media(col1, col2, col3)\n",
    "    sns.heatmap(pivot_table, annot=True, fmt=\"g\")\n",
    "    plt.ylabel(col1)\n",
    "    plt.xlabel(col2)\n",
    "    plt.show()"
   ]
  },
  {
   "cell_type": "code",
   "execution_count": 22,
   "id": "df4bdf88",
   "metadata": {},
   "outputs": [
    {
     "data": {
      "application/vnd.jupyter.widget-view+json": {
       "model_id": "a0bd9cb64a804842bb7c7efbb8dbc208",
       "version_major": 2,
       "version_minor": 0
      },
      "text/plain": [
       "interactive(children=(Dropdown(description='col1', options=('fabricante', 'modelo', 'year', 'desplazamiento', …"
      ]
     },
     "metadata": {},
     "output_type": "display_data"
    },
    {
     "data": {
      "text/plain": [
       "<function __main__.heatmap_medias_tipos(col1, col2, col3)>"
      ]
     },
     "execution_count": 22,
     "metadata": {},
     "output_type": "execute_result"
    }
   ],
   "source": [
    "interact(heatmap_medias_tipos, col1=vehiculos.columns, col2=vehiculos.columns, col3=columnas_numericas)"
   ]
  },
  {
   "cell_type": "markdown",
   "id": "29b8a359",
   "metadata": {},
   "source": [
    "### Conclusiones\n",
    "\n",
    "- Camionetas de gasolina Premium consumen un 38% más que vehículos pequeños que usan el mismo tipo de gasolina."
   ]
  },
  {
   "cell_type": "markdown",
   "id": "83e685d2",
   "metadata": {},
   "source": [
    "## Comparación de tendencias (temporales)\n",
    "\n",
    "En este dataset en particular, tenemos una variable temporal `year`. A la cual echamos un vistazo en un apartado anterior, pero que conviene revisar de nuevo.\n",
    "Podemos considerarla una variable ordinal (ya que no es una variable continua).\n",
    "\n",
    "Para la cual tiene sentido ver la evolución. Para ello, los gráficos de línea son lo ideal."
   ]
  },
  {
   "cell_type": "code",
   "execution_count": 23,
   "id": "3acecef0",
   "metadata": {},
   "outputs": [],
   "source": [
    "vehiculos_pre_2017 = vehiculos.query(\"year<2017\")"
   ]
  },
  {
   "cell_type": "code",
   "execution_count": 24,
   "id": "e76866a0",
   "metadata": {},
   "outputs": [
    {
     "data": {
      "text/plain": [
       "<AxesSubplot:xlabel='year'>"
      ]
     },
     "execution_count": 24,
     "metadata": {},
     "output_type": "execute_result"
    },
    {
     "data": {
      "image/png": "[encoded data removed]",
      "text/plain": [
       "<Figure size 720x720 with 1 Axes>"
      ]
     },
     "metadata": {
      "needs_background": "light"
     },
     "output_type": "display_data"
    }
   ],
   "source": [
    "vehiculos_pre_2017.groupby('year')['co2'].mean().plot()"
   ]
  },
  {
   "cell_type": "markdown",
   "id": "3786ec0a",
   "metadata": {},
   "source": [
    "Vemos que en general la emisión de co2 se ha reducido bastante con el tiempo."
   ]
  },
  {
   "cell_type": "code",
   "execution_count": 25,
   "id": "9c94b882",
   "metadata": {},
   "outputs": [],
   "source": [
    "def evolucion_medias(col_calculo):\n",
    "    vehiculos_pre_2017.groupby('year')[col_calculo].mean().plot()\n",
    "    plt.show()"
   ]
  },
  {
   "cell_type": "code",
   "execution_count": 26,
   "id": "887311ac",
   "metadata": {},
   "outputs": [
    {
     "data": {
      "application/vnd.jupyter.widget-view+json": {
       "model_id": "f018d4951195442a9657023ac81bf043",
       "version_major": 2,
       "version_minor": 0
      },
      "text/plain": [
       "interactive(children=(Dropdown(description='col_calculo', options=('year', 'desplazamiento', 'cilindros', 'con…"
      ]
     },
     "metadata": {},
     "output_type": "display_data"
    },
    {
     "data": {
      "text/plain": [
       "<function __main__.evolucion_medias(col_calculo)>"
      ]
     },
     "execution_count": 26,
     "metadata": {},
     "output_type": "execute_result"
    }
   ],
   "source": [
    "interact(evolucion_medias, col_calculo=columnas_numericas)"
   ]
  },
  {
   "cell_type": "markdown",
   "id": "420d9de6",
   "metadata": {},
   "source": [
    "Vemos que históricamente se ha ido aumentando la cilindrada (y desplazamiento). En los vehículos fabricados, pero a partir del 2010 esta tendencia se invierte.\n",
    "Vemos que ambas variables están linealmente relacionadas.\n",
    "\n",
    "También vemos que el consumo y emisión de co2 ha ido bajando a lo largo de los años, y dicha tendencia se atenuó a partir del 2006."
   ]
  },
  {
   "cell_type": "code",
   "execution_count": 28,
   "id": "eb88b475",
   "metadata": {},
   "outputs": [
    {
     "data": {
      "text/plain": [
       "<AxesSubplot:xlabel='cilindros', ylabel='desplazamiento'>"
      ]
     },
     "execution_count": 28,
     "metadata": {},
     "output_type": "execute_result"
    },
    {
     "data": {
      "image/png": "[encoded data removed]",
      "text/plain": [
       "<Figure size 720x720 with 1 Axes>"
      ]
     },
     "metadata": {
      "needs_background": "light"
     },
     "output_type": "display_data"
    }
   ],
   "source": [
    "vehiculos.plot.scatter(x=\"cilindros\", y=\"desplazamiento\")"
   ]
  },
  {
   "cell_type": "code",
   "execution_count": 29,
   "id": "c8ff20c6",
   "metadata": {},
   "outputs": [],
   "source": [
    "def evolucion_recuento(col_calculo):\n",
    "    for categoria in vehiculos_pre_2017[col_calculo].unique():\n",
    "        n_vehiculos_categoria_year = vehiculos_pre_2017[vehiculos_pre_2017[col_calculo]==categoria].groupby(\n",
    "        \"year\").apply(np.size)\n",
    "        plt.plot(\n",
    "            n_vehiculos_categoria_year.index,\n",
    "            n_vehiculos_categoria_year,\n",
    "            label=categoria\n",
    "        )\n",
    "        plt.legend()"
   ]
  },
  {
   "cell_type": "code",
   "execution_count": 31,
   "id": "71379543",
   "metadata": {},
   "outputs": [
    {
     "data": {
      "application/vnd.jupyter.widget-view+json": {
       "model_id": "0176c4998c9e44068093fb0ef1f9a98c",
       "version_major": 2,
       "version_minor": 0
      },
      "text/plain": [
       "interactive(children=(Dropdown(description='col_calculo', options=('clase_tipo', 'traccion_tipo', 'transmision…"
      ]
     },
     "metadata": {},
     "output_type": "display_data"
    },
    {
     "data": {
      "text/plain": [
       "<function __main__.evolucion_recuento(col_calculo)>"
      ]
     },
     "execution_count": 31,
     "metadata": {},
     "output_type": "execute_result"
    }
   ],
   "source": [
    "interact(evolucion_recuento, col_calculo=columnas_tipo)"
   ]
  },
  {
   "cell_type": "markdown",
   "id": "de6732fc",
   "metadata": {},
   "source": [
    "Una vez hemos terminado el análisis, el paso final es compilar toda la información obtenida en un documento.\n",
    "\n",
    "Dicho documento tiene 2 objetivos principales:\n",
    "\n",
    "- Informar a aquellas personas interesadas de los descubrimientos encontrados.\n",
    "- Facilitar la replicación del análisis por otros Data Scientists."
   ]
  },
  {
   "cell_type": "markdown",
   "id": "648fb8a5",
   "metadata": {},
   "source": [
    "Una vez hemos terminado el análisis, el paso final es compilar toda la información obtenida en un documento. Dicho documento tiene dos objetivos principales:\n",
    "\n",
    "- Informar a aquellas personas interesadas de los descubrimientos encontrados. ¿Esto nos incluye a nosotros mismos en el futuro!\n",
    "- Facilitar la replicación del análisis por otros Data Scientists.\n",
    "\n",
    "\n",
    "# Conclusiones del análisis\n",
    "\n",
    "\n",
    "#### Descripción\n",
    "\n",
    "El dataset consiste en información relativa a vehículos vendidos en USA desde 1985. Dicha información incluye detalles técnicos (cilindrada, tipo de transmisión) y detalles medioambientales (consumo de gasolina, emisiones de CO2)\n",
    "\n",
    "El archivo original está en: https://www.fueleconomy.gov/feg/epadata/vehicles.csv.zip\n",
    "El archivo que vamos a usar es una versión modificada (con menos columnas)\n",
    "\n",
    "Descripcion del dataset Original\n",
    "http://www.fueleconomy.gov/feg/ws/index.shtml#ft7\n",
    "\n",
    "Las entidades de las que consta dicho dataset son:\n",
    "\n",
    "* fabricante\n",
    "* fabricante-modelo\n",
    "* fabricante-model-año\n",
    "* fabricante-año\n",
    "\n",
    "Las variables que existen en dicho dataset son:\n",
    "\n",
    "```\n",
    "fabricante         categorica\n",
    "modelo             categorica\n",
    "year               ordinal/numérica\n",
    "desplazamiento     numérica\n",
    "cilindros          numérica\n",
    "transmision        categorica\n",
    "traccion           categorica\n",
    "clase              categorica\n",
    "combustible        categorica\n",
    "consumo            numérica\n",
    "co2                numérica\n",
    "```\n",
    "\n",
    "#### QA\n",
    "\n",
    "- Las variables desplazamiento, cilindros, transmision y traccion tienen valores inexistentes\n",
    "- hay un outlier en las variables `co2` y `consumo`\n",
    "- Hay coches hibridos y coches electricos (hemos removido estos ultimos ya que no contaminan).\n",
    "- La variable `consumo` esta definida en millas por galon y la variable `co2` está definida como gramos por milla. Dado que el co2 es la variable principal del dataset, hemos creado la variable `consumo_litros_milla` definida como litros por milla para poder comparar con `co2`\n",
    "\n",
    "#### Distribución de variables\n",
    "\n",
    "- Ninguna variable numérica sigue una distribución normal\n",
    "\n",
    "- la variable numérica `cilindros` tiene una distribución de valores discretos no balanceada (cilindrada de 2 y 4 y 8 suman el 95% de los vehiculos). Podria agruparse como variable categórica (2, 4 , 8 y otro)\n",
    "\n",
    "- El fabricante con la mayor cantidad de modelos es Chevrolet (10% del total)\n",
    "\n",
    "- 65% de los vehiculos usan gasolina normal\n",
    "\n",
    "- La distribución de tamaños de motor y de consumo y co2 está equilibrada en todo el rango\n",
    "\n",
    "- 70% de los vehiculos usan traccion a las dos ruedas\n",
    "\n",
    "- dos tercios de los coches tienen transmision automática\n",
    "\n",
    "- La clase mayoritaria de vehiculos es la de coches pequeños (35% del total)\n",
    "\n",
    "- Existen relaciones lineales entre cilindros/desplazamiento y co2/consumo_litros_milla\n",
    "\n",
    "#### Comparaciones\n",
    "\n",
    "- Hay mas vehiculos de dos ruedas de bajo consumo que de traccion a las 4 ruedas\n",
    "- Los fabricantes se concentran mas en vehiculos de motor pequeño/bajo consumo y motor muy grande/alto consumo\n",
    "- La mayor parte de coches tienen transmision automatica, con los coches pequeños teniendo valores similares de coches automaticos y manuales\n",
    "- Hay una cantidad de camionetas que son mas contaminantes que cualquier otro tipo de coche\n",
    "- Vehiculos con transmision automatica tienen valores de co2 y consumo ligeramente más altos\n",
    "- Furgonetas y camionetas tienen el consumo más alto (alrededor de 0.25 litros/milla). Por otra parte, los coches familiares y pequeños tienen el menor consumo de gasolina (~0.15 litros/milla)\n",
    "- los valores de co2 son similares  independientemente del tipo de gasolina empleado\n",
    "- Camionentas de gasolina Premium consumen un 38% más que vehiculos pequeños que usan el mismo tipo de gasolina\n",
    "- El consumo y emisión de co2 han ido bajando de forma continuada desde 1985\n",
    "- Históricamente se ha ido aumentando la cilindrada en los vehiculos fabricados, pero a partir de 2010 esta tendencia se invierte\n"
   ]
  }
 ],
 "metadata": {
  "kernelspec": {
   "display_name": "Python 3 (ipykernel)",
   "language": "python",
   "name": "python3"
  },
  "language_info": {
   "codemirror_mode": {
    "name": "ipython",
    "version": 3
   },
   "file_extension": ".py",
   "mimetype": "text/x-python",
   "name": "python",
   "nbconvert_exporter": "python",
   "pygments_lexer": "ipython3",
   "version": "3.9.7"
  }
 },
 "nbformat": 4,
 "nbformat_minor": 5
}
